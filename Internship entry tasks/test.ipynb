{
 "nbformat": 4,
 "nbformat_minor": 2,
 "metadata": {
  "language_info": {
   "name": "python",
   "codemirror_mode": {
    "name": "ipython",
    "version": 3
   },
   "version": "3.6.7-final"
  },
  "orig_nbformat": 2,
  "file_extension": ".py",
  "mimetype": "text/x-python",
  "name": "python",
  "npconvert_exporter": "python",
  "pygments_lexer": "ipython3",
  "version": 3,
  "kernelspec": {
   "name": "python36764bit6b1977f391d9459799586a6cf2479273",
   "display_name": "Python 3.6.7 64-bit"
  }
 },
 "cells": [
  {
   "cell_type": "code",
   "execution_count": 96,
   "metadata": {},
   "outputs": [],
   "source": [
    "import pandas as pd\n",
    "import numpy as np"
   ]
  },
  {
   "cell_type": "code",
   "execution_count": 97,
   "metadata": {},
   "outputs": [],
   "source": [
    "text = open(\"test.txt\",\"r+\", encoding=\"utf-8\")  "
   ]
  },
  {
   "cell_type": "code",
   "execution_count": 98,
   "metadata": {},
   "outputs": [],
   "source": [
    "text = str(text.read())"
   ]
  },
  {
   "cell_type": "code",
   "execution_count": 99,
   "metadata": {},
   "outputs": [],
   "source": [
    "text = text.split()"
   ]
  },
  {
   "cell_type": "code",
   "execution_count": 100,
   "metadata": {},
   "outputs": [],
   "source": [
    "freq = dict()\n",
    "for word in text:\n",
    "    freq[word] = text.count(word)"
   ]
  },
  {
   "cell_type": "code",
   "execution_count": 101,
   "metadata": {},
   "outputs": [],
   "source": [
    "onces = [i for i in freq.keys() if freq[i] == 1]\n"
   ]
  },
  {
   "cell_type": "code",
   "execution_count": 102,
   "metadata": {},
   "outputs": [
    {
     "data": {
      "text/plain": "119"
     },
     "execution_count": 102,
     "metadata": {},
     "output_type": "execute_result"
    }
   ],
   "source": [
    "round(len(onces)*0.4)"
   ]
  },
  {
   "cell_type": "code",
   "execution_count": 103,
   "metadata": {},
   "outputs": [
    {
     "data": {
      "text/plain": "{'African-Americans': 2,\n 'have': 6,\n 'a': 17,\n 'in': 15,\n 'the': 38,\n 'U.S.': 2,\n 'business': 5,\n 'like': 3,\n 'and': 24,\n 'even': 3,\n 'all': 3,\n 'from': 2,\n 'of': 24,\n 'black': 22,\n 'their': 2,\n 'this': 2,\n 'Black': 5,\n 'to': 17,\n 'number': 5,\n 'was': 2,\n 'that': 6,\n 'community’s': 3,\n 'creativity,': 2,\n 'as': 3,\n 'black-owned': 3,\n 'businesses': 5,\n 'were': 3,\n 'racial': 2,\n 'created': 2,\n 'opportunities': 2,\n 'for': 6,\n 'entrepreneurs': 3,\n 'says': 3,\n 'The': 4,\n 'many': 2,\n 'small': 2,\n 'fellow': 2,\n 'history': 2,\n 'entrepreneurship': 3,\n 'is': 2,\n 'saw': 2,\n 'rise': 2,\n 'some': 1,\n 'inequities': 1,\n 'slavery.': 1,\n 'But': 3,\n 'late': 1,\n '19th': 1,\n 'early': 1,\n '20th': 2,\n 'centuries,': 1,\n 'resurgence': 1,\n 'Jim': 1,\n 'Crow': 1,\n 'laws': 1,\n 'enforcing': 1,\n 'segregation,': 1,\n 'coupled': 1,\n 'with': 4,\n 'Great': 1,\n 'Depression,': 1,\n 'led': 1,\n 'decline': 1,\n 'entrepreneurship.': 1,\n '“Black': 1,\n 'targeted': 1,\n 'we': 1,\n 'rollback': 1,\n 'advancements': 1,\n 'made': 1,\n 'previously,”': 1,\n 'Tiffiany': 1,\n 'Howard,': 1,\n 'at': 1,\n 'Congressional': 1,\n 'Caucus': 1,\n 'Foundation.': 1,\n 'rate': 1,\n 'creation': 1,\n 'continued': 1,\n 'fall': 1,\n 'throughout': 1,\n '21st': 1,\n 'century,': 1,\n 'increasing': 1,\n '’90s,': 1,\n 'dipping': 1,\n 'during': 1,\n '2008': 1,\n 'recession': 1,\n 'rising': 1,\n 'again': 1,\n 'post-recession.': 1,\n 'In': 2,\n 'recent': 1,\n 'years,': 2,\n 'has': 1,\n 'risen': 1,\n 'dramatically,': 1,\n 'women': 1,\n 'fueling': 1,\n 'much': 2,\n 'growth.': 1,\n '2003,': 1,\n 'Oprah': 1,\n 'Winfrey,': 1,\n 'arguably': 1,\n 'most': 1,\n 'notable': 1,\n 'female': 2,\n 'entrepreneur,': 1,\n 'became': 1,\n 'first': 1,\n 'American': 1,\n 'billionaire.': 1,\n 'And': 2,\n 'just': 1,\n 'last': 1,\n 'five': 1,\n 'four': 1,\n 'other': 1,\n 'reached': 1,\n 'billionaire': 1,\n 'echelon.': 1,\n 'forward': 1,\n 'momentum,': 1,\n 'still': 1,\n 'face': 1,\n 'challenges:': 1,\n 'primarily,': 1,\n 'lack': 1,\n 'access': 2,\n 'capital,': 2,\n 'Ron': 1,\n 'Busby,': 1,\n 'president': 1,\n 'Chambers.': 1,\n '“We': 1,\n 'acumen,': 1,\n 'knowledge': 1,\n 'manpower.': 1,\n 'without': 1,\n 'our': 1,\n 'ideas': 1,\n 'come': 1,\n 'standstill,': 1,\n 'are': 2,\n 'stolen': 1,\n 'or': 1,\n 'manipulated.”': 1,\n 'Many': 1,\n '2020': 1,\n '30': 2,\n 'Under': 1,\n 'listmakers': 1,\n 'echo': 1,\n 'similar': 1,\n 'sentiment': 1,\n 'candid': 1,\n 'video': 1,\n 'interviews': 1,\n 'Forbes,': 1,\n 'but': 1,\n 'they': 1,\n 'also': 1,\n 'note': 1,\n 'collective': 1,\n 'ability': 1,\n 'persevere': 1,\n 'against': 1,\n 'odds.': 1,\n 'an': 1,\n 'effort': 1,\n 'level': 1,\n 'playing': 1,\n 'field': 1,\n 'color,': 1,\n 'corporations': 1,\n 'wealthy': 1,\n 'leaders': 1,\n 'funds': 2,\n 'invest': 1,\n 'minority-owned': 1,\n 'companies.': 1,\n 'Real': 1,\n 'estate': 1,\n 'tycoon': 1,\n 'Don': 1,\n 'Peebles': 1,\n 'announced': 1,\n '$500': 1,\n 'million': 1,\n 'fund': 1,\n 'emerging': 1,\n 'minority': 1,\n 'developers': 1,\n 'June': 1,\n '2019,': 1,\n 'banks': 1,\n 'JPMorgan': 1,\n 'Citigroup': 1,\n 'launched': 1,\n 'initiatives': 1,\n 'investment': 1,\n 'support': 1,\n 'underrepresented': 1,\n 'entrepreneurs.': 1,\n 'Still,': 1,\n 'remains': 1,\n 'be': 4,\n 'done': 1,\n 'both': 1,\n 'private': 1,\n 'public': 1,\n 'sectors.': 1,\n '“In': 1,\n 'order': 2,\n 'there': 3,\n 'great': 5,\n 'America,': 2,\n 'must': 2,\n 'America,”': 1,\n 'Busby': 1,\n 'says.': 1,\n '“And': 1,\n 'you': 1,\n 'economy.”': 1,\n 'If': 1,\n 'any': 1,\n 'indication,': 1,\n 'will': 1,\n 'continue': 1,\n 'grow': 1,\n 'thrive': 1,\n 'coming': 1,\n 'years—an': 1,\n 'economic': 1,\n 'boon': 1,\n 'Americans': 1,\n 'colors.': 1}"
     },
     "execution_count": 103,
     "metadata": {},
     "output_type": "execute_result"
    }
   ],
   "source": [
    "\n",
    "from random import shuffle\n",
    "seed(1)\n",
    "data = [*range(round(len(onces)*0.4))]\n",
    "shuffle(data)\n",
    "onces = [onces[i] for i in data]\n",
    "for i in onces:\n",
    "    del freq[i]\n",
    "freq"
   ]
  },
  {
   "cell_type": "code",
   "execution_count": 108,
   "metadata": {},
   "outputs": [
    {
     "data": {
      "text/plain": "{'African-Americans': 37,\n 'have': 54,\n 'a': 201,\n 'in': 143,\n 'the': 121,\n 'U.S.': 109,\n 'business': 132,\n 'like': 22,\n 'and': 1,\n 'even': 146,\n 'all': 208,\n 'from': 94,\n 'of': 220,\n 'black': 186,\n 'their': 111,\n 'this': 137,\n 'Black': 5,\n 'to': 179,\n 'number': 163,\n 'was': 233,\n 'that': 166,\n 'community’s': 145,\n 'creativity,': 24,\n 'as': 11,\n 'black-owned': 63,\n 'businesses': 47,\n 'were': 217,\n 'racial': 75,\n 'created': 70,\n 'opportunities': 14,\n 'for': 142,\n 'entrepreneurs': 219,\n 'says': 84,\n 'The': 40,\n 'many': 138,\n 'small': 212,\n 'fellow': 169,\n 'history': 92,\n 'entrepreneurship': 160,\n 'is': 126,\n 'saw': 106,\n 'rise': 89,\n 'some': 52,\n 'inequities': 209,\n 'slavery.': 214,\n 'But': 172,\n 'late': 236,\n '19th': 101,\n 'early': 115,\n '20th': 150,\n 'centuries,': 189,\n 'resurgence': 107,\n 'Jim': 234,\n 'Crow': 144,\n 'laws': 168,\n 'enforcing': 104,\n 'segregation,': 155,\n 'coupled': 65,\n 'with': 77,\n 'Great': 90,\n 'Depression,': 3,\n 'led': 133,\n 'decline': 87,\n 'entrepreneurship.': 238,\n '“Black': 167,\n 'targeted': 221,\n 'we': 7,\n 'rollback': 124,\n 'advancements': 203,\n 'made': 27,\n 'previously,”': 86,\n 'Tiffiany': 20,\n 'Howard,': 13,\n 'at': 213,\n 'Congressional': 33,\n 'Caucus': 129,\n 'Foundation.': 199,\n 'rate': 231,\n 'creation': 91,\n 'continued': 110,\n 'fall': 196,\n 'throughout': 235,\n '21st': 206,\n 'century,': 180,\n 'increasing': 46,\n '’90s,': 112,\n 'dipping': 159,\n 'during': 147,\n '2008': 72,\n 'recession': 131,\n 'rising': 154,\n 'again': 177,\n 'post-recession.': 23,\n 'In': 95,\n 'recent': 76,\n 'years,': 164,\n 'has': 185,\n 'risen': 32,\n 'dramatically,': 183,\n 'women': 198,\n 'fueling': 134,\n 'much': 35,\n 'growth.': 81,\n '2003,': 230,\n 'Oprah': 50,\n 'Winfrey,': 58,\n 'arguably': 158,\n 'most': 117,\n 'notable': 105,\n 'female': 182,\n 'entrepreneur,': 122,\n 'became': 96,\n 'first': 125,\n 'American': 148,\n 'billionaire.': 237,\n 'And': 130,\n 'just': 176,\n 'last': 229,\n 'five': 190,\n 'four': 178,\n 'other': 139,\n 'reached': 216,\n 'billionaire': 120,\n 'echelon.': 191,\n 'forward': 17,\n 'momentum,': 108,\n 'still': 222,\n 'face': 16,\n 'challenges:': 10,\n 'primarily,': 140,\n 'lack': 78,\n 'access': 165,\n 'capital,': 192,\n 'Ron': 34,\n 'Busby,': 66,\n 'president': 98,\n 'Chambers.': 211,\n '“We': 224,\n 'acumen,': 162,\n 'knowledge': 151,\n 'manpower.': 8,\n 'without': 39,\n 'our': 41,\n 'ideas': 174,\n 'come': 51,\n 'standstill,': 74,\n 'are': 99,\n 'stolen': 82,\n 'or': 123,\n 'manipulated.”': 2,\n 'Many': 4,\n '2020': 194,\n '30': 21,\n 'Under': 232,\n 'listmakers': 29,\n 'echo': 152,\n 'similar': 128,\n 'sentiment': 85,\n 'candid': 67,\n 'video': 171,\n 'interviews': 55,\n 'Forbes,': 100,\n 'but': 226,\n 'they': 141,\n 'also': 119,\n 'note': 73,\n 'collective': 61,\n 'ability': 173,\n 'persevere': 44,\n 'against': 97,\n 'odds.': 116,\n 'an': 225,\n 'effort': 60,\n 'level': 210,\n 'playing': 57,\n 'field': 25,\n 'color,': 45,\n 'corporations': 205,\n 'wealthy': 31,\n 'leaders': 71,\n 'funds': 170,\n 'invest': 88,\n 'minority-owned': 227,\n 'companies.': 157,\n 'Real': 136,\n 'estate': 181,\n 'tycoon': 197,\n 'Don': 9,\n 'Peebles': 204,\n 'announced': 56,\n '$500': 6,\n 'million': 153,\n 'fund': 15,\n 'emerging': 12,\n 'minority': 48,\n 'developers': 26,\n 'June': 127,\n '2019,': 83,\n 'banks': 102,\n 'JPMorgan': 59,\n 'Citigroup': 28,\n 'launched': 18,\n 'initiatives': 79,\n 'investment': 175,\n 'support': 207,\n 'underrepresented': 53,\n 'entrepreneurs.': 215,\n 'Still,': 30,\n 'remains': 62,\n 'be': 103,\n 'done': 193,\n 'both': 80,\n 'private': 93,\n 'public': 113,\n 'sectors.': 184,\n '“In': 218,\n 'order': 200,\n 'there': 36,\n 'great': 42,\n 'America,': 135,\n 'must': 118,\n 'America,”': 68,\n 'Busby': 156,\n 'says.': 38,\n '“And': 187,\n 'you': 228,\n 'economy.”': 114,\n 'If': 149,\n 'any': 223,\n 'indication,': 43,\n 'will': 188,\n 'continue': 161,\n 'grow': 19,\n 'thrive': 49,\n 'coming': 69,\n 'years—an': 202,\n 'economic': 64,\n 'boon': 195,\n 'Americans': 239}"
     },
     "execution_count": 108,
     "metadata": {},
     "output_type": "execute_result"
    }
   ],
   "source": [
    "data = [*range(1,len(freq.keys()))]\n",
    "keys = [*freq.keys()]\n",
    "shuffle(data)\n",
    "vocab = dict()\n",
    "for i in range(len(data)):\n",
    "    vocab[keys[i]] = data[i]\n",
    "vocab"
   ]
  },
  {
   "cell_type": "code",
   "execution_count": 110,
   "metadata": {},
   "outputs": [
    {
     "data": {
      "text/plain": "[40, 186, 145, 92, 220, 160, 126, 1]"
     },
     "execution_count": 110,
     "metadata": {},
     "output_type": "execute_result"
    }
   ],
   "source": [
    "sample = \"The black community’s long history of entrepreneurship is marked by ebbs and flows\"\n",
    "sample = sample.split()\n",
    "x = []\n",
    "for i in sample:\n",
    "    try:\n",
    "        x.append(vocab[i])\n",
    "    except:\n",
    "        pass\n",
    "x"
   ]
  },
  {
   "cell_type": "code",
   "execution_count": null,
   "metadata": {},
   "outputs": [],
   "source": []
  }
 ]
}